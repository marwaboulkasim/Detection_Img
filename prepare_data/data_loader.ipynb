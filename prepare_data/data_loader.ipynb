{
 "cells": [
  {
   "cell_type": "code",
   "execution_count": 1,
   "id": "e96fb12b",
   "metadata": {},
   "outputs": [
    {
     "name": "stdout",
     "output_type": "stream",
     "text": [
      "Dossier data détecté : /home/marwa/Detection_Img/data\n",
      "Fichier JSON utilisé : _annotations.coco.json\n",
      "Nombre d'images : 500\n",
      "Nombre d'annotations : 959\n",
      "Catégories : ['wildfire', 'fire']\n"
     ]
    },
    {
     "data": {
      "application/vnd.microsoft.datawrangler.viewer.v0+json": {
       "columns": [
        {
         "name": "index",
         "rawType": "int64",
         "type": "integer"
        },
        {
         "name": "id",
         "rawType": "int64",
         "type": "integer"
        },
        {
         "name": "license",
         "rawType": "int64",
         "type": "integer"
        },
        {
         "name": "file_name",
         "rawType": "object",
         "type": "string"
        },
        {
         "name": "height",
         "rawType": "int64",
         "type": "integer"
        },
        {
         "name": "width",
         "rawType": "int64",
         "type": "integer"
        },
        {
         "name": "date_captured",
         "rawType": "object",
         "type": "string"
        },
        {
         "name": "extra",
         "rawType": "object",
         "type": "unknown"
        }
       ],
       "ref": "a4f6cdef-e898-4ff1-8f58-e903c001f5cf",
       "rows": [
        [
         "0",
         "0",
         "1",
         "cl6e1qges001kgk555z158f33_2_FALSE_COLOR_jpg.rf.479904c9e54c6ba121689341598bf3ed.jpg",
         "860",
         "1200",
         "2025-09-14T12:06:19+00:00",
         "{'name': 'cl6e1qges001kgk555z158f33_2_FALSE_COLOR.jpg'}"
        ],
        [
         "1",
         "1",
         "1",
         "cl6kgm9qr002yc455g5qs87kz_2_FALSE_COLOR_jpg.rf.95debd80b7509cc0a6afe0a7c7ff6cfe.jpg",
         "860",
         "1200",
         "2025-09-14T12:06:19+00:00",
         "{'name': 'cl6kgm9qr002yc455g5qs87kz_2_FALSE_COLOR.jpg'}"
        ],
        [
         "2",
         "2",
         "1",
         "cl6odzs5e002oao55heuig0a6_1_TRUE_COLOR_jpg.rf.fc96fcc9ef8466ce18f286d422df48ea.jpg",
         "860",
         "1200",
         "2025-09-14T12:06:19+00:00",
         "{'name': 'cl6odzs5e002oao55heuig0a6_1_TRUE_COLOR.jpg'}"
        ],
        [
         "3",
         "3",
         "1",
         "cl6b6pieh007rl455fwvb73gr_1_TRUE_COLOR_jpg.rf.8f3f9c84272e40682f7f430cdc4ac4c0.jpg",
         "860",
         "1200",
         "2025-09-14T12:06:19+00:00",
         "{'name': 'cl6b6pieh007rl455fwvb73gr_1_TRUE_COLOR.jpg'}"
        ],
        [
         "4",
         "4",
         "1",
         "cl6b5k38g003zl455bgtd1317_4_FALSE_COLOR__URBAN_jpg.rf.fcaa4827b85c1b38fdedffcd6a3b098f.jpg",
         "860",
         "1200",
         "2025-09-14T12:06:19+00:00",
         "{'name': 'cl6b5k38g003zl455bgtd1317_4_FALSE_COLOR__URBAN.jpg'}"
        ]
       ],
       "shape": {
        "columns": 7,
        "rows": 5
       }
      },
      "text/html": [
       "<div>\n",
       "<style scoped>\n",
       "    .dataframe tbody tr th:only-of-type {\n",
       "        vertical-align: middle;\n",
       "    }\n",
       "\n",
       "    .dataframe tbody tr th {\n",
       "        vertical-align: top;\n",
       "    }\n",
       "\n",
       "    .dataframe thead th {\n",
       "        text-align: right;\n",
       "    }\n",
       "</style>\n",
       "<table border=\"1\" class=\"dataframe\">\n",
       "  <thead>\n",
       "    <tr style=\"text-align: right;\">\n",
       "      <th></th>\n",
       "      <th>id</th>\n",
       "      <th>license</th>\n",
       "      <th>file_name</th>\n",
       "      <th>height</th>\n",
       "      <th>width</th>\n",
       "      <th>date_captured</th>\n",
       "      <th>extra</th>\n",
       "    </tr>\n",
       "  </thead>\n",
       "  <tbody>\n",
       "    <tr>\n",
       "      <th>0</th>\n",
       "      <td>0</td>\n",
       "      <td>1</td>\n",
       "      <td>cl6e1qges001kgk555z158f33_2_FALSE_COLOR_jpg.rf...</td>\n",
       "      <td>860</td>\n",
       "      <td>1200</td>\n",
       "      <td>2025-09-14T12:06:19+00:00</td>\n",
       "      <td>{'name': 'cl6e1qges001kgk555z158f33_2_FALSE_CO...</td>\n",
       "    </tr>\n",
       "    <tr>\n",
       "      <th>1</th>\n",
       "      <td>1</td>\n",
       "      <td>1</td>\n",
       "      <td>cl6kgm9qr002yc455g5qs87kz_2_FALSE_COLOR_jpg.rf...</td>\n",
       "      <td>860</td>\n",
       "      <td>1200</td>\n",
       "      <td>2025-09-14T12:06:19+00:00</td>\n",
       "      <td>{'name': 'cl6kgm9qr002yc455g5qs87kz_2_FALSE_CO...</td>\n",
       "    </tr>\n",
       "    <tr>\n",
       "      <th>2</th>\n",
       "      <td>2</td>\n",
       "      <td>1</td>\n",
       "      <td>cl6odzs5e002oao55heuig0a6_1_TRUE_COLOR_jpg.rf....</td>\n",
       "      <td>860</td>\n",
       "      <td>1200</td>\n",
       "      <td>2025-09-14T12:06:19+00:00</td>\n",
       "      <td>{'name': 'cl6odzs5e002oao55heuig0a6_1_TRUE_COL...</td>\n",
       "    </tr>\n",
       "    <tr>\n",
       "      <th>3</th>\n",
       "      <td>3</td>\n",
       "      <td>1</td>\n",
       "      <td>cl6b6pieh007rl455fwvb73gr_1_TRUE_COLOR_jpg.rf....</td>\n",
       "      <td>860</td>\n",
       "      <td>1200</td>\n",
       "      <td>2025-09-14T12:06:19+00:00</td>\n",
       "      <td>{'name': 'cl6b6pieh007rl455fwvb73gr_1_TRUE_COL...</td>\n",
       "    </tr>\n",
       "    <tr>\n",
       "      <th>4</th>\n",
       "      <td>4</td>\n",
       "      <td>1</td>\n",
       "      <td>cl6b5k38g003zl455bgtd1317_4_FALSE_COLOR__URBAN...</td>\n",
       "      <td>860</td>\n",
       "      <td>1200</td>\n",
       "      <td>2025-09-14T12:06:19+00:00</td>\n",
       "      <td>{'name': 'cl6b5k38g003zl455bgtd1317_4_FALSE_CO...</td>\n",
       "    </tr>\n",
       "  </tbody>\n",
       "</table>\n",
       "</div>"
      ],
      "text/plain": [
       "   id  license                                          file_name  height  \\\n",
       "0   0        1  cl6e1qges001kgk555z158f33_2_FALSE_COLOR_jpg.rf...     860   \n",
       "1   1        1  cl6kgm9qr002yc455g5qs87kz_2_FALSE_COLOR_jpg.rf...     860   \n",
       "2   2        1  cl6odzs5e002oao55heuig0a6_1_TRUE_COLOR_jpg.rf....     860   \n",
       "3   3        1  cl6b6pieh007rl455fwvb73gr_1_TRUE_COLOR_jpg.rf....     860   \n",
       "4   4        1  cl6b5k38g003zl455bgtd1317_4_FALSE_COLOR__URBAN...     860   \n",
       "\n",
       "   width              date_captured  \\\n",
       "0   1200  2025-09-14T12:06:19+00:00   \n",
       "1   1200  2025-09-14T12:06:19+00:00   \n",
       "2   1200  2025-09-14T12:06:19+00:00   \n",
       "3   1200  2025-09-14T12:06:19+00:00   \n",
       "4   1200  2025-09-14T12:06:19+00:00   \n",
       "\n",
       "                                               extra  \n",
       "0  {'name': 'cl6e1qges001kgk555z158f33_2_FALSE_CO...  \n",
       "1  {'name': 'cl6kgm9qr002yc455g5qs87kz_2_FALSE_CO...  \n",
       "2  {'name': 'cl6odzs5e002oao55heuig0a6_1_TRUE_COL...  \n",
       "3  {'name': 'cl6b6pieh007rl455fwvb73gr_1_TRUE_COL...  \n",
       "4  {'name': 'cl6b5k38g003zl455bgtd1317_4_FALSE_CO...  "
      ]
     },
     "execution_count": 1,
     "metadata": {},
     "output_type": "execute_result"
    }
   ],
   "source": [
    "import json\n",
    "import pandas as pd\n",
    "from pathlib import Path\n",
    "import os\n",
    "\n",
    "\n",
    "if Path(\"data\").exists():\n",
    "    data_folder = Path(\"data\")\n",
    "elif Path(\"../data\").exists():\n",
    "    data_folder = Path(\"../data\")\n",
    "else:\n",
    "    raise FileNotFoundError(\"Impossible de trouver le dossier data\")\n",
    "\n",
    "print(\"Dossier data détecté :\", data_folder.resolve())\n",
    "\n",
    "\n",
    "# 2️ Chercher le fichier JSON\n",
    "\n",
    "json_files = list(data_folder.glob(\"*_annotations*.json\"))\n",
    "if len(json_files) == 0:\n",
    "    raise FileNotFoundError(\"Aucun fichier _annotations.json trouvé dans le dossier data\")\n",
    "json_file = json_files[0]\n",
    "print(\"Fichier JSON utilisé :\", json_file.name)\n",
    "\n",
    "\n",
    "# 3️ Charger le JSON\n",
    "\n",
    "with json_file.open('r', encoding='utf-8') as f:\n",
    "    coco_dict = json.load(f)\n",
    "\n",
    "\n",
    "# 4️ Convertir en DataFrames\n",
    "\n",
    "images_df = pd.DataFrame(coco_dict.get(\"images\", []))\n",
    "annotations_df = pd.DataFrame(coco_dict.get(\"annotations\", []))\n",
    "categories_df = pd.DataFrame(coco_dict.get(\"categories\", []))\n",
    "licenses_df = pd.DataFrame(coco_dict.get(\"licenses\", []))\n",
    "info_df = pd.DataFrame([coco_dict.get(\"info\", {})])\n",
    "\n",
    "\n",
    "# 5️ Affichage résumé\n",
    "\n",
    "print(f\"Nombre d'images : {len(images_df)}\")\n",
    "print(f\"Nombre d'annotations : {len(annotations_df)}\")\n",
    "if 'name' in categories_df.columns:\n",
    "    print(f\"Catégories : {categories_df['name'].tolist()}\")\n",
    "else:\n",
    "    print(f\"Catégories : {categories_df.to_dict(orient='records')}\")\n",
    "\n",
    "\n",
    "\n",
    "\n",
    "images_df.head()\n"
   ]
  }
 ],
 "metadata": {
  "kernelspec": {
   "display_name": "venv",
   "language": "python",
   "name": "python3"
  },
  "language_info": {
   "codemirror_mode": {
    "name": "ipython",
    "version": 3
   },
   "file_extension": ".py",
   "mimetype": "text/x-python",
   "name": "python",
   "nbconvert_exporter": "python",
   "pygments_lexer": "ipython3",
   "version": "3.12.3"
  }
 },
 "nbformat": 4,
 "nbformat_minor": 5
}
