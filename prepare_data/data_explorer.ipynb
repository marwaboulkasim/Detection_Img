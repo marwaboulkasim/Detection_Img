{
 "cells": [
  {
   "cell_type": "code",
   "execution_count": 2,
   "id": "70c251ad",
   "metadata": {},
   "outputs": [],
   "source": [
    "import json\n",
    "import pandas as pd\n",
    "import matplotlib as plt"
   ]
  },
  {
   "cell_type": "code",
   "execution_count": null,
   "id": "0a34313c",
   "metadata": {},
   "outputs": [
    {
     "ename": "ModuleNotFoundError",
     "evalue": "No module named 'prepare_data'",
     "output_type": "error",
     "traceback": [
      "\u001b[31m---------------------------------------------------------------------------\u001b[39m",
      "\u001b[31mModuleNotFoundError\u001b[39m                       Traceback (most recent call last)",
      "\u001b[36mCell\u001b[39m\u001b[36m \u001b[39m\u001b[32mIn[5]\u001b[39m\u001b[32m, line 1\u001b[39m\n\u001b[32m----> \u001b[39m\u001b[32m1\u001b[39m \u001b[38;5;28;01mfrom\u001b[39;00m\u001b[38;5;250m \u001b[39m\u001b[34;01mprepare_data\u001b[39;00m\u001b[34;01m.\u001b[39;00m\u001b[34;01mdata_loader\u001b[39;00m\u001b[38;5;250m \u001b[39m\u001b[38;5;28;01mimport\u001b[39;00m images_df, annotations_df, categories_df\n\u001b[32m      3\u001b[39m \u001b[38;5;66;03m# Charger les données COCO\u001b[39;00m\n\u001b[32m      4\u001b[39m coco_path = \u001b[33m\"\u001b[39m\u001b[33m/home/marwa/Detection_img/data/_annotations.coco.json\u001b[39m\u001b[33m\"\u001b[39m\u001b[38;5;66;03m# Affichage des clés\u001b[39;00m\n",
      "\u001b[31mModuleNotFoundError\u001b[39m: No module named 'prepare_data'"
     ]
    }
   ],
   "source": [
    "from data_loader import load_coco_json\n",
    "\n",
    "# Charger les données COCO\n",
    "coco_path = \"/home/marwa/Detection_img/data/_annotations.coco.json\"\n",
    "coco_data = load_coco_json(coco_path)\n",
    "\n",
    "# Affichage des informations principales\n",
    "print(\"Clés disponibles dans les données COCO :\", list(coco_data.keys()))\n",
    "\n",
    "print(\"\\n--- Exemple d'image ---\")\n",
    "print(coco_data[\"images\"][0])  # première image\n",
    "\n",
    "print(\"\\n--- Exemple d'annotation ---\")\n",
    "print(coco_data[\"annotations\"][0])  # première annotation\n",
    "\n",
    "print(\"\\n--- Catégories ---\")\n",
    "for category in coco_data[\"categories\"]:\n",
    "    print(f\"- {category}\")\n"
   ]
  }
 ],
 "metadata": {
  "kernelspec": {
   "display_name": "venv",
   "language": "python",
   "name": "python3"
  },
  "language_info": {
   "codemirror_mode": {
    "name": "ipython",
    "version": 3
   },
   "file_extension": ".py",
   "mimetype": "text/x-python",
   "name": "python",
   "nbconvert_exporter": "python",
   "pygments_lexer": "ipython3",
   "version": "3.12.3"
  }
 },
 "nbformat": 4,
 "nbformat_minor": 5
}
