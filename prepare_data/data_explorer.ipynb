{
 "cells": [
  {
   "cell_type": "code",
   "execution_count": null,
   "id": "70c251ad",
   "metadata": {},
   "outputs": [
    {
     "name": "stdout",
     "output_type": "stream",
     "text": [
      "\n",
      "--- Exploration des données ---\n",
      "\n"
     ]
    },
    {
     "ename": "NameError",
     "evalue": "name 'images_df' is not defined",
     "output_type": "error",
     "traceback": [
      "\u001b[31m---------------------------------------------------------------------------\u001b[39m",
      "\u001b[31mNameError\u001b[39m                                 Traceback (most recent call last)",
      "\u001b[36mCell\u001b[39m\u001b[36m \u001b[39m\u001b[32mIn[2]\u001b[39m\u001b[32m, line 25\u001b[39m\n\u001b[32m     22\u001b[39m \u001b[38;5;28mprint\u001b[39m(\u001b[33m\"\u001b[39m\u001b[38;5;130;01m\\n\u001b[39;00m\u001b[33m--- Exploration des données ---\u001b[39m\u001b[38;5;130;01m\\n\u001b[39;00m\u001b[33m\"\u001b[39m)\n\u001b[32m     24\u001b[39m \u001b[38;5;66;03m# 1️ Nombre total d'images\u001b[39;00m\n\u001b[32m---> \u001b[39m\u001b[32m25\u001b[39m total_images = \u001b[38;5;28mlen\u001b[39m(\u001b[43mimages_df\u001b[49m)\n\u001b[32m     26\u001b[39m \u001b[38;5;28mprint\u001b[39m(\u001b[33m\"\u001b[39m\u001b[33mNombre total d\u001b[39m\u001b[33m'\u001b[39m\u001b[33mimages :\u001b[39m\u001b[33m\"\u001b[39m, total_images)\n\u001b[32m     28\u001b[39m \u001b[38;5;66;03m# 2️ Nombre total d'annotations\u001b[39;00m\n",
      "\u001b[31mNameError\u001b[39m: name 'images_df' is not defined"
     ]
    }
   ],
   "source": [
    "import pandas as pd\n",
    "from prepare_data.data_loader import images_df, annotations_df, categories_df\n",
    "\n",
    "# Fonctions d'exploration\n",
    "\n",
    "def annotations_per_image(annotations_df: pd.DataFrame) -> pd.DataFrame:\n",
    "    \"\"\"Nombre d'annotations par image.\"\"\"\n",
    "    return annotations_df.groupby('image_id').size().reset_index(name='num_annotations')\n",
    "\n",
    "def images_without_annotations(images_df: pd.DataFrame, annotations_df: pd.DataFrame) -> pd.DataFrame:\n",
    "    \"\"\"Images sans annotations.\"\"\"\n",
    "    annotated_ids = annotations_df['image_id'].unique()\n",
    "    return images_df[~images_df['id'].isin(annotated_ids)]\n",
    "\n",
    "def images_per_category(annotations_df: pd.DataFrame, categories_df: pd.DataFrame) -> pd.DataFrame:\n",
    "    \"\"\"Nombre d'images par catégorie.\"\"\"\n",
    "    merged = annotations_df.merge(categories_df, left_on='category_id', right_on='id')\n",
    "    counts = merged.groupby('name')['image_id'].nunique().reset_index()\n",
    "    counts.columns = ['category', 'num_images']\n",
    "    return counts\n",
    "\n",
    "\n",
    "print(\"\\n Exploration des données \\n\")\n",
    "\n",
    "# 1️ Nombre total d'images\n",
    "total_images = len(images_df)\n",
    "print(\"Nombre total d'images :\", total_images)\n",
    "\n",
    "# 2️ Nombre total d'annotations\n",
    "total_annotations = len(annotations_df)\n",
    "print(\"Nombre total d'annotations :\", total_annotations)\n",
    "\n",
    "# 3️ Catégories présentes\n",
    "if 'name' in categories_df.columns:\n",
    "    categories = categories_df['name'].tolist()\n",
    "else:\n",
    "    categories = []\n",
    "print(\"Catégories :\", categories)\n",
    "\n",
    "# 4️ Nombre d'images par catégorie\n",
    "print(\"\\nNombre d'images par catégorie :\")\n",
    "print(images_per_category(annotations_df, categories_df))\n",
    "\n",
    "# 5️ Stat sur le nombre d'annotations par image\n",
    "annotations_count = annotations_df.groupby('image_id').size()\n",
    "\n",
    "print(\"\\nStatistiques sur le nombre d'annotations par image :\")\n",
    "print(annotations_count.describe())\n",
    "\n",
    "# 6️ Images sans annotations\n",
    "print(\"\\nQuelques images sans annotations :\")\n",
    "print(images_without_annotations(images_df, annotations_df).head())\n",
    "\n"
   ]
  }
 ],
 "metadata": {
  "kernelspec": {
   "display_name": "venv",
   "language": "python",
   "name": "python3"
  },
  "language_info": {
   "codemirror_mode": {
    "name": "ipython",
    "version": 3
   },
   "file_extension": ".py",
   "mimetype": "text/x-python",
   "name": "python",
   "nbconvert_exporter": "python",
   "pygments_lexer": "ipython3",
   "version": "3.12.3"
  }
 },
 "nbformat": 4,
 "nbformat_minor": 5
}
